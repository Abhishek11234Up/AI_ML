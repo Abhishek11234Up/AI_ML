{
 "cells": [
  {
   "cell_type": "code",
   "execution_count": 1,
   "id": "a26e911d-cdc8-4b85-9d20-9e4613e04ef7",
   "metadata": {},
   "outputs": [],
   "source": [
    "name = \"Hitesh\""
   ]
  },
  {
   "cell_type": "code",
   "execution_count": 2,
   "id": "c1764a81-5d45-4bcc-ad52-3916373c2a51",
   "metadata": {},
   "outputs": [
    {
     "data": {
      "text/plain": [
       "str"
      ]
     },
     "execution_count": 2,
     "metadata": {},
     "output_type": "execute_result"
    }
   ],
   "source": [
    "type(name)"
   ]
  },
  {
   "cell_type": "code",
   "execution_count": 3,
   "id": "82d80990-df94-430f-b62b-912e71ca9fba",
   "metadata": {},
   "outputs": [
    {
     "name": "stdout",
     "output_type": "stream",
     "text": [
      "Hello, World!\n"
     ]
    }
   ],
   "source": [
    "print(\"Hello, World!\")"
   ]
  },
  {
   "cell_type": "code",
   "execution_count": 4,
   "id": "16fb466b-c893-44ad-a3b8-d0c176a98ca6",
   "metadata": {},
   "outputs": [
    {
     "name": "stdout",
     "output_type": "stream",
     "text": [
      "Hello, World!\n",
      "Hello, World!\n",
      "Hello, World!\n"
     ]
    }
   ],
   "source": [
    "print(\"Hello, World!\")\n",
    "print(\"Hello, World!\")\n",
    "print(\"Hello, World!\")"
   ]
  },
  {
   "cell_type": "markdown",
   "id": "74d24607-cd05-4627-91de-2ae43f287a02",
   "metadata": {},
   "source": [
    "## \\n ---> New line character"
   ]
  },
  {
   "cell_type": "code",
   "execution_count": 5,
   "id": "48b27aa7-a13f-4363-b670-ba1b8f84ea37",
   "metadata": {},
   "outputs": [
    {
     "name": "stdout",
     "output_type": "stream",
     "text": [
      "Hello, World!\n",
      "Hello, World!\n",
      "Hello, World!\n"
     ]
    }
   ],
   "source": [
    "print(\"Hello, World!\\nHello, World!\\nHello, World!\")"
   ]
  },
  {
   "cell_type": "markdown",
   "id": "c1947482-90bd-486a-ac3b-e30aa9d4c180",
   "metadata": {},
   "source": [
    "### Concatenation ---> Combine two or more than two strings together."
   ]
  },
  {
   "cell_type": "code",
   "execution_count": 6,
   "id": "0493a117-a463-4df6-9a08-52f1cd9c4287",
   "metadata": {},
   "outputs": [
    {
     "name": "stdout",
     "output_type": "stream",
     "text": [
      "Hello,World!\n"
     ]
    }
   ],
   "source": [
    "print(\"Hello,\"+\"World!\")"
   ]
  },
  {
   "cell_type": "code",
   "execution_count": 7,
   "id": "c74f0fbb-5f07-441a-affd-65948886e66b",
   "metadata": {},
   "outputs": [
    {
     "name": "stdout",
     "output_type": "stream",
     "text": [
      "Hello, World!\n"
     ]
    }
   ],
   "source": [
    "# 1st way\n",
    "print(\"Hello, \"+\"World!\")"
   ]
  },
  {
   "cell_type": "code",
   "execution_count": 8,
   "id": "39c9c664-539f-43e8-bd3d-e1410f8d424a",
   "metadata": {},
   "outputs": [
    {
     "name": "stdout",
     "output_type": "stream",
     "text": [
      "Hello, World!\n"
     ]
    }
   ],
   "source": [
    "# 2nd way\n",
    "print(\"Hello,\"+\" World!\")"
   ]
  },
  {
   "cell_type": "code",
   "execution_count": 9,
   "id": "b66afefa-de90-434a-9b4e-3428e49492a5",
   "metadata": {},
   "outputs": [
    {
     "name": "stdout",
     "output_type": "stream",
     "text": [
      "Hello, World!\n"
     ]
    }
   ],
   "source": [
    "# 3rd way -- \" \" by using empty string\n",
    "print(\"Hello,\"+\" \"+\"World!\")"
   ]
  },
  {
   "cell_type": "code",
   "execution_count": 11,
   "id": "56c94bae-557a-478a-8f32-20dedf63854b",
   "metadata": {},
   "outputs": [
    {
     "name": "stdout",
     "output_type": "stream",
     "text": [
      "Hello, Hitesh\n"
     ]
    }
   ],
   "source": [
    "print(\"Hello, \"+ name)"
   ]
  },
  {
   "cell_type": "markdown",
   "id": "ad2ef1bd-8ee0-4aa2-9930-ea73805073c6",
   "metadata": {},
   "source": [
    "### len() -- It gives the number of charcters present in a string."
   ]
  },
  {
   "cell_type": "code",
   "execution_count": 12,
   "id": "6abccb13-c857-48dc-ba3f-4be602c985a8",
   "metadata": {},
   "outputs": [
    {
     "name": "stdout",
     "output_type": "stream",
     "text": [
      "6\n"
     ]
    }
   ],
   "source": [
    "print(len(name))"
   ]
  },
  {
   "cell_type": "code",
   "execution_count": 13,
   "id": "c3561174-70c3-4096-9ae9-6d7db558e064",
   "metadata": {},
   "outputs": [
    {
     "data": {
      "text/plain": [
       "'Hitesh'"
      ]
     },
     "execution_count": 13,
     "metadata": {},
     "output_type": "execute_result"
    }
   ],
   "source": [
    "name"
   ]
  },
  {
   "cell_type": "code",
   "execution_count": 14,
   "id": "d72bbca9-1dac-4ec9-b719-046631e1e858",
   "metadata": {},
   "outputs": [
    {
     "data": {
      "text/plain": [
       "'H'"
      ]
     },
     "execution_count": 14,
     "metadata": {},
     "output_type": "execute_result"
    }
   ],
   "source": [
    "name[0]"
   ]
  }
 ],
 "metadata": {
  "kernelspec": {
   "display_name": "Python 3 (ipykernel)",
   "language": "python",
   "name": "python3"
  },
  "language_info": {
   "codemirror_mode": {
    "name": "ipython",
    "version": 3
   },
   "file_extension": ".py",
   "mimetype": "text/x-python",
   "name": "python",
   "nbconvert_exporter": "python",
   "pygments_lexer": "ipython3",
   "version": "3.11.7"
  }
 },
 "nbformat": 4,
 "nbformat_minor": 5
}
