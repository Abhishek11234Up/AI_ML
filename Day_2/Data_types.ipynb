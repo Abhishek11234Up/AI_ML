{
 "cells": [
  {
   "cell_type": "markdown",
   "id": "9f7621d7-cc4d-4caf-8e4b-d7a87de7cb4f",
   "metadata": {},
   "source": [
    "# Numeric type in python ---> basically numbers ko bola jata h.\n",
    "\n",
    "## Numbers ---\n",
    "    1. int() -- Integer --> A family of numbers which have whole numbers and negative of natural numbers. eg. -- -45, -1, -21,0, 1, 2, 3  --> No fractions allowed..a/b\n",
    "    2. float() -- Float --> Decimals-- Purnank wale numbers -- eg.- 188.567, 12.5, 1.5\n",
    "    3. complex() -- Complex --> Complex Number --> made from (real number + imaginary number) === ( a + bj)"
   ]
  },
  {
   "cell_type": "markdown",
   "id": "1b2c9758-4aed-4266-9ce1-c349261aedc2",
   "metadata": {},
   "source": [
    "## Learn about the primitive data types in Python.\n",
    "### String\n",
    "### Integer\n",
    "### Floats\n",
    "### Booleans"
   ]
  },
  {
   "cell_type": "code",
   "execution_count": 2,
   "id": "616b9f59-8183-492f-b0dc-2fb768d8fbb7",
   "metadata": {},
   "outputs": [],
   "source": [
    "name = \"Hitesh\""
   ]
  },
  {
   "cell_type": "code",
   "execution_count": 3,
   "id": "27c5a4e6-3e3a-4c2c-b9bf-49a6f9b45c6c",
   "metadata": {},
   "outputs": [
    {
     "data": {
      "text/plain": [
       "'Hitesh'"
      ]
     },
     "execution_count": 3,
     "metadata": {},
     "output_type": "execute_result"
    }
   ],
   "source": [
    "name"
   ]
  },
  {
   "cell_type": "code",
   "execution_count": 5,
   "id": "69dd6b11-595e-4dfd-a232-ea91d9a2d6cb",
   "metadata": {},
   "outputs": [
    {
     "name": "stdout",
     "output_type": "stream",
     "text": [
      "<class 'str'>\n"
     ]
    }
   ],
   "source": [
    "print(type(name))"
   ]
  },
  {
   "cell_type": "code",
   "execution_count": 6,
   "id": "ebf1897c-7a1f-48a8-a9ce-d4f669645ffd",
   "metadata": {},
   "outputs": [
    {
     "name": "stdout",
     "output_type": "stream",
     "text": [
      "6\n"
     ]
    }
   ],
   "source": [
    "print(len(name))"
   ]
  },
  {
   "cell_type": "markdown",
   "id": "e12f8e19-e642-4d05-9f3a-6bdaf4d8df0f",
   "metadata": {},
   "source": [
    "## Integer"
   ]
  },
  {
   "cell_type": "code",
   "execution_count": 7,
   "id": "c72a6bf5-8fda-4488-8d18-a8904d71f403",
   "metadata": {},
   "outputs": [],
   "source": [
    "a = 5"
   ]
  },
  {
   "cell_type": "code",
   "execution_count": 8,
   "id": "f96a3bcc-6880-4f4a-849c-8c6051bd842d",
   "metadata": {},
   "outputs": [
    {
     "data": {
      "text/plain": [
       "int"
      ]
     },
     "execution_count": 8,
     "metadata": {},
     "output_type": "execute_result"
    }
   ],
   "source": [
    "type(a)"
   ]
  },
  {
   "cell_type": "code",
   "execution_count": 10,
   "id": "d0404409-b393-4843-8053-f5618f54bc13",
   "metadata": {},
   "outputs": [],
   "source": [
    "# This will give you a error -- TypeError: object of type 'int' has no len()\n",
    "# len(a)"
   ]
  },
  {
   "cell_type": "code",
   "execution_count": 11,
   "id": "1586300a-adb7-4a7d-8506-c63246120063",
   "metadata": {},
   "outputs": [
    {
     "data": {
      "text/plain": [
       "20"
      ]
     },
     "execution_count": 11,
     "metadata": {},
     "output_type": "execute_result"
    }
   ],
   "source": [
    "a +15"
   ]
  },
  {
   "cell_type": "code",
   "execution_count": 12,
   "id": "c75d77f7-c7dc-4b4a-ac29-16fc1c9907d4",
   "metadata": {},
   "outputs": [
    {
     "data": {
      "text/plain": [
       "3"
      ]
     },
     "execution_count": 12,
     "metadata": {},
     "output_type": "execute_result"
    }
   ],
   "source": [
    "a -2"
   ]
  },
  {
   "cell_type": "code",
   "execution_count": 13,
   "id": "b9f2787b-7837-43a4-b590-c2b5abe73419",
   "metadata": {},
   "outputs": [
    {
     "data": {
      "text/plain": [
       "35"
      ]
     },
     "execution_count": 13,
     "metadata": {},
     "output_type": "execute_result"
    }
   ],
   "source": [
    "a * 7"
   ]
  },
  {
   "cell_type": "code",
   "execution_count": 14,
   "id": "bf02e10e-c612-45b2-8f45-e404dc263a90",
   "metadata": {},
   "outputs": [
    {
     "data": {
      "text/plain": [
       "2.5"
      ]
     },
     "execution_count": 14,
     "metadata": {},
     "output_type": "execute_result"
    }
   ],
   "source": [
    "a / 2"
   ]
  },
  {
   "cell_type": "markdown",
   "id": "1b26777b-02e4-491d-a0de-8925e47e3500",
   "metadata": {},
   "source": [
    "## Floats"
   ]
  },
  {
   "cell_type": "code",
   "execution_count": 15,
   "id": "84f6ab3d-c137-4fd2-aef7-3d18554034ed",
   "metadata": {},
   "outputs": [],
   "source": [
    "c = 3.5"
   ]
  },
  {
   "cell_type": "code",
   "execution_count": 16,
   "id": "4e3cb06e-b14f-4fea-9a8a-b7d338054d3f",
   "metadata": {},
   "outputs": [
    {
     "data": {
      "text/plain": [
       "float"
      ]
     },
     "execution_count": 16,
     "metadata": {},
     "output_type": "execute_result"
    }
   ],
   "source": [
    "type(c)"
   ]
  },
  {
   "cell_type": "markdown",
   "id": "e02a5c76-d347-417c-b008-b663ea448059",
   "metadata": {},
   "source": [
    "## Booleans"
   ]
  },
  {
   "cell_type": "code",
   "execution_count": 19,
   "id": "ace5a2bf-ec89-48a6-ae0d-a39de71ce366",
   "metadata": {},
   "outputs": [
    {
     "name": "stdout",
     "output_type": "stream",
     "text": [
      "False\n",
      "False\n",
      "False\n",
      "False\n",
      "False\n",
      "False\n",
      "False\n"
     ]
    }
   ],
   "source": [
    "print(bool(\"\"))\n",
    "print(bool(0))\n",
    "print(bool(None))\n",
    "print(bool(False))\n",
    "print(bool([]))\n",
    "print(bool(()))\n",
    "print(bool({}))"
   ]
  },
  {
   "cell_type": "code",
   "execution_count": 20,
   "id": "682e771e-1ef7-482d-bfe2-3daa72aa1c47",
   "metadata": {},
   "outputs": [
    {
     "name": "stdout",
     "output_type": "stream",
     "text": [
      "True\n",
      "True\n",
      "True\n",
      "True\n",
      "True\n",
      "True\n"
     ]
    }
   ],
   "source": [
    "print(bool(\"Satish jii\"))\n",
    "print(bool(1))\n",
    "print(bool(True))\n",
    "print(bool([4.7, 2+3j]))\n",
    "print(bool((1,)))\n",
    "print(bool({3,6,9}))"
   ]
  }
 ],
 "metadata": {
  "kernelspec": {
   "display_name": "Python 3 (ipykernel)",
   "language": "python",
   "name": "python3"
  },
  "language_info": {
   "codemirror_mode": {
    "name": "ipython",
    "version": 3
   },
   "file_extension": ".py",
   "mimetype": "text/x-python",
   "name": "python",
   "nbconvert_exporter": "python",
   "pygments_lexer": "ipython3",
   "version": "3.11.7"
  }
 },
 "nbformat": 4,
 "nbformat_minor": 5
}
