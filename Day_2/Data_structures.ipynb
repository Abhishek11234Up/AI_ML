{
 "cells": [
  {
   "cell_type": "markdown",
   "id": "b4d92058-afe6-4bf2-befb-7a9fbe2cf942",
   "metadata": {},
   "source": [
    "Data Structure is a concept to arrange the data in a sequential manner so that if needed it can \n",
    "be retrieved in future and can be used.\n",
    "It reduces complexity and size of the data."
   ]
  },
  {
   "cell_type": "markdown",
   "id": "4505df4b-73d1-4a54-95b3-c5a4c8df6786",
   "metadata": {},
   "source": [
    "## list ---> list(), []"
   ]
  },
  {
   "cell_type": "code",
   "execution_count": 1,
   "id": "51becea7-25d3-4708-9842-70c3bdfcfd92",
   "metadata": {},
   "outputs": [],
   "source": [
    "name = [\"Sandeep\", \"Satish\", \"Hitesh\", \"Abhishek\"]"
   ]
  },
  {
   "cell_type": "code",
   "execution_count": 2,
   "id": "0299e8ab-25e3-46ff-b2cc-fbc29eec122f",
   "metadata": {},
   "outputs": [
    {
     "name": "stdout",
     "output_type": "stream",
     "text": [
      "<class 'list'>\n"
     ]
    }
   ],
   "source": [
    "print(type(name))"
   ]
  },
  {
   "cell_type": "code",
   "execution_count": 4,
   "id": "e2e05466-f597-4aea-ba9e-461bc0943a0c",
   "metadata": {},
   "outputs": [
    {
     "name": "stdout",
     "output_type": "stream",
     "text": [
      "['Sandeep', 'Satish', 'Hitesh', 'Abhishek']\n"
     ]
    }
   ],
   "source": [
    "print(name)"
   ]
  },
  {
   "cell_type": "markdown",
   "id": "6a63c282-bd41-4415-8698-5ca8b28b1e35",
   "metadata": {},
   "source": [
    "## tuple --- tuple(), ()"
   ]
  },
  {
   "cell_type": "code",
   "execution_count": 5,
   "id": "24d9b628-9a2f-4423-aa35-8cfc462ae38a",
   "metadata": {},
   "outputs": [],
   "source": [
    "name_1 = (\"Akshat\", \"Prince\", \"Aditya\")"
   ]
  },
  {
   "cell_type": "code",
   "execution_count": 6,
   "id": "f4bb5d4b-1c18-4653-b7d0-f4ce185a3657",
   "metadata": {},
   "outputs": [
    {
     "name": "stdout",
     "output_type": "stream",
     "text": [
      "<class 'tuple'>\n"
     ]
    }
   ],
   "source": [
    "print(type(name_1))"
   ]
  },
  {
   "cell_type": "code",
   "execution_count": 7,
   "id": "2e555697-715f-4e30-9914-de7675cf90cc",
   "metadata": {},
   "outputs": [
    {
     "data": {
      "text/plain": [
       "('Akshat', 'Prince', 'Aditya')"
      ]
     },
     "execution_count": 7,
     "metadata": {},
     "output_type": "execute_result"
    }
   ],
   "source": [
    "name_1"
   ]
  },
  {
   "cell_type": "markdown",
   "id": "e48d07ad-e64b-4f1d-88b9-510513c55b90",
   "metadata": {},
   "source": [
    "## set ---> {}, set()"
   ]
  },
  {
   "cell_type": "code",
   "execution_count": 8,
   "id": "48f8c684-1ec5-46df-8709-17a3c74f0d4c",
   "metadata": {},
   "outputs": [],
   "source": [
    "set_1 = {1, 2, 3, 4}"
   ]
  },
  {
   "cell_type": "code",
   "execution_count": 9,
   "id": "f945ce10-b929-49fd-9557-9d1394c0e75a",
   "metadata": {},
   "outputs": [
    {
     "data": {
      "text/plain": [
       "set"
      ]
     },
     "execution_count": 9,
     "metadata": {},
     "output_type": "execute_result"
    }
   ],
   "source": [
    "type(set_1)"
   ]
  },
  {
   "cell_type": "code",
   "execution_count": 10,
   "id": "f29a00ef-30bd-46c4-9d12-7dc12899c63f",
   "metadata": {},
   "outputs": [
    {
     "data": {
      "text/plain": [
       "{1, 2, 3, 4}"
      ]
     },
     "execution_count": 10,
     "metadata": {},
     "output_type": "execute_result"
    }
   ],
   "source": [
    "set_1"
   ]
  },
  {
   "cell_type": "markdown",
   "id": "1efe3679-3e3f-4d5a-9409-5712be68aa34",
   "metadata": {},
   "source": [
    "## dictionary ----> dict(key : value), {\"key\" : \"Value\"}"
   ]
  },
  {
   "cell_type": "code",
   "execution_count": 11,
   "id": "0c494ecb-0236-4461-8f9f-4d5432216061",
   "metadata": {},
   "outputs": [],
   "source": [
    "details = {\n",
    "    \"name\" : \"Amit\",\n",
    "    \"age\" : 30,\n",
    "    \"Nationality\" : \"Indian\"\n",
    "}"
   ]
  },
  {
   "cell_type": "code",
   "execution_count": 13,
   "id": "f7a07c5b-331e-4948-8e44-152a4ef04a6b",
   "metadata": {},
   "outputs": [],
   "source": [
    "# details = {\"name\" : \"Amit\", \"age\" : 30, \"Nationality\" : \"Indian\"}"
   ]
  },
  {
   "cell_type": "code",
   "execution_count": 14,
   "id": "c2ee7890-3127-4f80-a94e-8ee7d28006fe",
   "metadata": {},
   "outputs": [
    {
     "name": "stdout",
     "output_type": "stream",
     "text": [
      "<class 'dict'>\n"
     ]
    }
   ],
   "source": [
    "print(type(details))"
   ]
  },
  {
   "cell_type": "code",
   "execution_count": 15,
   "id": "e90890d7-5db8-4e13-b1e4-dc40f1b185bc",
   "metadata": {},
   "outputs": [
    {
     "data": {
      "text/plain": [
       "{'name': 'Amit', 'age': 30, 'Nationality': 'Indian'}"
      ]
     },
     "execution_count": 15,
     "metadata": {},
     "output_type": "execute_result"
    }
   ],
   "source": [
    "details"
   ]
  }
 ],
 "metadata": {
  "kernelspec": {
   "display_name": "Python 3 (ipykernel)",
   "language": "python",
   "name": "python3"
  },
  "language_info": {
   "codemirror_mode": {
    "name": "ipython",
    "version": 3
   },
   "file_extension": ".py",
   "mimetype": "text/x-python",
   "name": "python",
   "nbconvert_exporter": "python",
   "pygments_lexer": "ipython3",
   "version": "3.11.7"
  }
 },
 "nbformat": 4,
 "nbformat_minor": 5
}
