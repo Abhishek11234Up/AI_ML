{
 "cells": [
  {
   "cell_type": "markdown",
   "id": "bcfe775f-5956-4b56-8428-8f0eb2c5fdb9",
   "metadata": {},
   "source": [
    "### https://www.w3schools.com/python/python_variables_names.asp"
   ]
  },
  {
   "cell_type": "code",
   "execution_count": 1,
   "id": "600e157e-255e-41de-8689-53e9d0dbd7ed",
   "metadata": {},
   "outputs": [
    {
     "name": "stdin",
     "output_type": "stream",
     "text": [
      "What is your name? :  Abhishek\n"
     ]
    },
    {
     "name": "stdout",
     "output_type": "stream",
     "text": [
      "Your firstname is Abhishek.\n"
     ]
    }
   ],
   "source": [
    "# Ask user for a firstname\n",
    "\n",
    "first_name = input(\"What is your name? : \")\n",
    "\n",
    "print(\"Your firstname is \" + first_name +\".\")"
   ]
  },
  {
   "cell_type": "code",
   "execution_count": 2,
   "id": "ee5eaad1-529a-4ee8-83af-79de4c095cf9",
   "metadata": {},
   "outputs": [],
   "source": [
    "# input() -- Input function --- Jb v user se input lena h ye use hoga.\n",
    "\n",
    "# print() -- Print function --- Jb v hme output/result dikhana ho tb ye use hoga."
   ]
  },
  {
   "cell_type": "code",
   "execution_count": 3,
   "id": "a9637477-78c9-4c7b-8190-8a8e8f77eb40",
   "metadata": {},
   "outputs": [],
   "source": [
    "# Data Types"
   ]
  },
  {
   "cell_type": "code",
   "execution_count": 4,
   "id": "5035421c-1abe-463f-a7bb-01904533a941",
   "metadata": {},
   "outputs": [],
   "source": [
    "# Text type --- > str ---> string --> '',\"\", ''' ''', \"\"\" \"\"\", str()"
   ]
  },
  {
   "cell_type": "code",
   "execution_count": 5,
   "id": "ce14293f-f683-4d70-8805-34db9a68cf25",
   "metadata": {},
   "outputs": [],
   "source": [
    "nya_name = 'Amit'"
   ]
  },
  {
   "cell_type": "code",
   "execution_count": 6,
   "id": "623785cb-92c1-4c69-9fee-fd0224c0cdd8",
   "metadata": {},
   "outputs": [
    {
     "name": "stdout",
     "output_type": "stream",
     "text": [
      "<class 'str'>\n"
     ]
    }
   ],
   "source": [
    "# to know the type of data stored in a variable we can use type().\n",
    "print(type(nya_name))"
   ]
  },
  {
   "cell_type": "code",
   "execution_count": 7,
   "id": "c24c0cae-c6cc-4865-ba52-90aaf8062855",
   "metadata": {},
   "outputs": [
    {
     "name": "stdout",
     "output_type": "stream",
     "text": [
      "<class 'str'>\n"
     ]
    }
   ],
   "source": [
    "name_1 = \"Satish\"\n",
    "\n",
    "print(type(name_1))"
   ]
  },
  {
   "cell_type": "code",
   "execution_count": 9,
   "id": "332c8475-1a9d-42eb-b0d4-a490cdf50904",
   "metadata": {},
   "outputs": [
    {
     "name": "stdout",
     "output_type": "stream",
     "text": [
      "<class 'str'>\n",
      "2\n"
     ]
    }
   ],
   "source": [
    "name_2 = str(2)\n",
    "\n",
    "print(type(name_2))\n",
    "print(name_2)"
   ]
  },
  {
   "cell_type": "code",
   "execution_count": 10,
   "id": "604a554e-d322-4a63-81a3-4ce0a2a6f11f",
   "metadata": {},
   "outputs": [
    {
     "name": "stdout",
     "output_type": "stream",
     "text": [
      "The Zen of Python, by Tim Peters\n",
      "\n",
      "Beautiful is better than ugly.\n",
      "Explicit is better than implicit.\n",
      "Simple is better than complex.\n",
      "Complex is better than complicated.\n",
      "Flat is better than nested.\n",
      "Sparse is better than dense.\n",
      "Readability counts.\n",
      "Special cases aren't special enough to break the rules.\n",
      "Although practicality beats purity.\n",
      "Errors should never pass silently.\n",
      "Unless explicitly silenced.\n",
      "In the face of ambiguity, refuse the temptation to guess.\n",
      "There should be one-- and preferably only one --obvious way to do it.\n",
      "Although that way may not be obvious at first unless you're Dutch.\n",
      "Now is better than never.\n",
      "Although never is often better than *right* now.\n",
      "If the implementation is hard to explain, it's a bad idea.\n",
      "If the implementation is easy to explain, it may be a good idea.\n",
      "Namespaces are one honking great idea -- let's do more of those!\n"
     ]
    }
   ],
   "source": [
    "import this"
   ]
  },
  {
   "cell_type": "code",
   "execution_count": 13,
   "id": "1f240ec1-c46d-47b7-88c6-6b31d67f81a3",
   "metadata": {},
   "outputs": [],
   "source": [
    "multi_line = '''The Zen of Python, by Tim Peters\n",
    "\n",
    "Beautiful is better than ugly.\n",
    "Explicit is better than implicit.\n",
    "Simple is better than complex.\n",
    "Complex is better than complicated.\n",
    "Flat is better than nested.\n",
    "Sparse is better than dense.\n",
    "Readability counts.'''"
   ]
  },
  {
   "cell_type": "code",
   "execution_count": 14,
   "id": "541dd4d5-c559-4192-951f-9e6d5cdfee59",
   "metadata": {},
   "outputs": [
    {
     "name": "stdout",
     "output_type": "stream",
     "text": [
      "<class 'str'>\n"
     ]
    }
   ],
   "source": [
    "print(type(multi_line))"
   ]
  },
  {
   "cell_type": "code",
   "execution_count": 16,
   "id": "51d555ad-df5c-4189-b56b-7668e587cc9c",
   "metadata": {},
   "outputs": [
    {
     "name": "stdout",
     "output_type": "stream",
     "text": [
      "The Zen of Python, by Tim Peters\n",
      "\n",
      "Beautiful is better than ugly.\n",
      "Explicit is better than implicit.\n",
      "Simple is better than complex.\n",
      "Complex is better than complicated.\n",
      "Flat is better than nested.\n",
      "Sparse is better than dense.\n",
      "Readability counts.\n"
     ]
    }
   ],
   "source": [
    "print(multi_line)"
   ]
  },
  {
   "cell_type": "code",
   "execution_count": 18,
   "id": "8e63c93d-2025-4f1c-bbe6-41c3f1a25f92",
   "metadata": {},
   "outputs": [
    {
     "name": "stdin",
     "output_type": "stream",
     "text": [
      "What is your name? :  Amit\n"
     ]
    },
    {
     "name": "stdout",
     "output_type": "stream",
     "text": [
      "Your firstname is Amit.\n"
     ]
    }
   ],
   "source": [
    "first_name = input(\"What is your name? : \")\n",
    "\n",
    "# print(type(first_name))\n",
    "\n",
    "# Concatenation --- Adding two or more than two strings \n",
    "\n",
    "print(\"Your firstname is \" + first_name +\".\")"
   ]
  },
  {
   "cell_type": "code",
   "execution_count": 19,
   "id": "bcf9083c-b275-4a5a-be23-ae4c3321e764",
   "metadata": {},
   "outputs": [
    {
     "data": {
      "text/plain": [
       "'helloWorld!'"
      ]
     },
     "execution_count": 19,
     "metadata": {},
     "output_type": "execute_result"
    }
   ],
   "source": [
    "a = 'hello'\n",
    "b = 'World!'\n",
    "\n",
    "c = a + b\n",
    "c"
   ]
  },
  {
   "cell_type": "code",
   "execution_count": 20,
   "id": "9a3fd1f5-df38-4b23-82da-e6567b4f69bc",
   "metadata": {},
   "outputs": [
    {
     "data": {
      "text/plain": [
       "'hello'"
      ]
     },
     "execution_count": 20,
     "metadata": {},
     "output_type": "execute_result"
    }
   ],
   "source": [
    "a"
   ]
  },
  {
   "cell_type": "code",
   "execution_count": 21,
   "id": "b843c454-db78-44b0-8175-a59f9bcdba9a",
   "metadata": {},
   "outputs": [
    {
     "name": "stdout",
     "output_type": "stream",
     "text": [
      "5\n"
     ]
    }
   ],
   "source": [
    "print(len(a))"
   ]
  },
  {
   "cell_type": "code",
   "execution_count": 22,
   "id": "1ec7935d-5573-4162-92de-18fe6c302bde",
   "metadata": {},
   "outputs": [
    {
     "data": {
      "text/plain": [
       "'h'"
      ]
     },
     "execution_count": 22,
     "metadata": {},
     "output_type": "execute_result"
    }
   ],
   "source": [
    "# Indexing\n",
    "a[0]"
   ]
  },
  {
   "cell_type": "code",
   "execution_count": 23,
   "id": "5850ea6a-b0c7-4780-91ff-19bda817ffaa",
   "metadata": {},
   "outputs": [
    {
     "data": {
      "text/plain": [
       "'h'"
      ]
     },
     "execution_count": 23,
     "metadata": {},
     "output_type": "execute_result"
    }
   ],
   "source": [
    "a[-5]"
   ]
  },
  {
   "cell_type": "code",
   "execution_count": 24,
   "id": "04375502-62d9-4ac0-987e-a442eca8102f",
   "metadata": {},
   "outputs": [
    {
     "data": {
      "text/plain": [
       "'hell'"
      ]
     },
     "execution_count": 24,
     "metadata": {},
     "output_type": "execute_result"
    }
   ],
   "source": [
    "# slicing --[Start : End]\n",
    "\n",
    "a[0:4]"
   ]
  },
  {
   "cell_type": "code",
   "execution_count": 25,
   "id": "6fd387c8-3448-475c-b48f-b0f98253cc47",
   "metadata": {},
   "outputs": [
    {
     "data": {
      "text/plain": [
       "'hell'"
      ]
     },
     "execution_count": 25,
     "metadata": {},
     "output_type": "execute_result"
    }
   ],
   "source": [
    "a[-5:-1]"
   ]
  },
  {
   "cell_type": "code",
   "execution_count": 26,
   "id": "f3c36d8e-470c-4835-809b-9e8bf60fedd8",
   "metadata": {},
   "outputs": [
    {
     "data": {
      "text/plain": [
       "'World!'"
      ]
     },
     "execution_count": 26,
     "metadata": {},
     "output_type": "execute_result"
    }
   ],
   "source": [
    "b"
   ]
  },
  {
   "cell_type": "code",
   "execution_count": 27,
   "id": "94ba8686-bb42-475c-828b-d020b38ed8c8",
   "metadata": {},
   "outputs": [
    {
     "data": {
      "text/plain": [
       "'World!'"
      ]
     },
     "execution_count": 27,
     "metadata": {},
     "output_type": "execute_result"
    }
   ],
   "source": [
    "b[:]"
   ]
  },
  {
   "cell_type": "code",
   "execution_count": 28,
   "id": "d5c37ae2-3be5-4b9d-85da-0822760b839a",
   "metadata": {},
   "outputs": [
    {
     "data": {
      "text/plain": [
       "'Wor'"
      ]
     },
     "execution_count": 28,
     "metadata": {},
     "output_type": "execute_result"
    }
   ],
   "source": [
    "b[:3]"
   ]
  },
  {
   "cell_type": "code",
   "execution_count": 29,
   "id": "c7c1bc92-295a-4b58-ae92-2ddf88bdc038",
   "metadata": {},
   "outputs": [
    {
     "ename": "SyntaxError",
     "evalue": "invalid syntax (7934146.py, line 1)",
     "output_type": "error",
     "traceback": [
      "\u001b[1;36m  Cell \u001b[1;32mIn[29], line 1\u001b[1;36m\u001b[0m\n\u001b[1;33m    txt = \"We are the so-called \"Vikings\" from the north.\"\u001b[0m\n\u001b[1;37m                                 ^\u001b[0m\n\u001b[1;31mSyntaxError\u001b[0m\u001b[1;31m:\u001b[0m invalid syntax\n"
     ]
    }
   ],
   "source": [
    "txt = \"We are the so-called \"Vikings\" from the north.\""
   ]
  },
  {
   "cell_type": "code",
   "execution_count": 30,
   "id": "46f3ecaf-0fe4-455c-a80f-3e1ab5fdf381",
   "metadata": {},
   "outputs": [],
   "source": [
    "#  \\--> powerful character in any programming language"
   ]
  },
  {
   "cell_type": "code",
   "execution_count": 31,
   "id": "99f5cbd2-52bd-4bf0-8cb0-c506e729425a",
   "metadata": {},
   "outputs": [],
   "source": [
    "txt = \"We are the so-called \\\"Vikings\\\" from the north.\""
   ]
  },
  {
   "cell_type": "code",
   "execution_count": 32,
   "id": "23df38e6-8167-4d71-805c-0f50ce989012",
   "metadata": {},
   "outputs": [
    {
     "data": {
      "text/plain": [
       "'We are the so-called \"Vikings\" from the north.'"
      ]
     },
     "execution_count": 32,
     "metadata": {},
     "output_type": "execute_result"
    }
   ],
   "source": [
    "txt"
   ]
  },
  {
   "cell_type": "code",
   "execution_count": 33,
   "id": "b9f82f1a-39e3-4187-971a-00889bfba336",
   "metadata": {},
   "outputs": [],
   "source": [
    "txt = \"We are the so-called 'Vikings' from the north.\"\n",
    "txt = 'We are the so-called \"Vikings\" from the north.'"
   ]
  },
  {
   "cell_type": "code",
   "execution_count": 34,
   "id": "99d9b525-cf44-415b-96a5-60da2a649d29",
   "metadata": {},
   "outputs": [
    {
     "data": {
      "text/plain": [
       "'hello'"
      ]
     },
     "execution_count": 34,
     "metadata": {},
     "output_type": "execute_result"
    }
   ],
   "source": [
    "a"
   ]
  },
  {
   "cell_type": "code",
   "execution_count": 36,
   "id": "8bb3fc7f-1e14-44b2-b1d8-d1f3a3ca5e4c",
   "metadata": {},
   "outputs": [
    {
     "data": {
      "text/plain": [
       "'Hello'"
      ]
     },
     "execution_count": 36,
     "metadata": {},
     "output_type": "execute_result"
    }
   ],
   "source": [
    "a.capitalize()"
   ]
  },
  {
   "cell_type": "code",
   "execution_count": 37,
   "id": "8ca32470-7019-4499-88a9-229f4e370628",
   "metadata": {},
   "outputs": [
    {
     "data": {
      "text/plain": [
       "'We are the so-called \"Vikings\" from the north.'"
      ]
     },
     "execution_count": 37,
     "metadata": {},
     "output_type": "execute_result"
    }
   ],
   "source": [
    "txt"
   ]
  },
  {
   "cell_type": "code",
   "execution_count": 38,
   "id": "fd524ad3-568e-451d-a7b6-9a023a09a346",
   "metadata": {},
   "outputs": [
    {
     "data": {
      "text/plain": [
       "'We are the so-called \"vikings\" from the north.'"
      ]
     },
     "execution_count": 38,
     "metadata": {},
     "output_type": "execute_result"
    }
   ],
   "source": [
    "txt.capitalize()"
   ]
  },
  {
   "cell_type": "code",
   "execution_count": 39,
   "id": "8e250295-fd74-48ac-b868-a9525f1fca0a",
   "metadata": {},
   "outputs": [
    {
     "data": {
      "text/plain": [
       "'AMIT'"
      ]
     },
     "execution_count": 39,
     "metadata": {},
     "output_type": "execute_result"
    }
   ],
   "source": [
    "c = \"AMIT\"\n",
    "c"
   ]
  },
  {
   "cell_type": "code",
   "execution_count": 40,
   "id": "569ba9f0-4138-45a4-9332-1c7ca6114059",
   "metadata": {},
   "outputs": [
    {
     "data": {
      "text/plain": [
       "'amit'"
      ]
     },
     "execution_count": 40,
     "metadata": {},
     "output_type": "execute_result"
    }
   ],
   "source": [
    "c.casefold()"
   ]
  },
  {
   "cell_type": "code",
   "execution_count": 41,
   "id": "88958d6e-a00a-4883-a332-02942075a0dc",
   "metadata": {},
   "outputs": [
    {
     "name": "stdout",
     "output_type": "stream",
     "text": [
      "banana\n"
     ]
    }
   ],
   "source": [
    "txt = \"banana\"\n",
    "print(txt)"
   ]
  },
  {
   "cell_type": "code",
   "execution_count": 42,
   "id": "b1f9ec88-d55f-4149-87fc-c92e98b9b5c0",
   "metadata": {},
   "outputs": [
    {
     "name": "stdout",
     "output_type": "stream",
     "text": [
      "       banana       \n"
     ]
    }
   ],
   "source": [
    "x = txt.center(20)\n",
    "\n",
    "print(x)"
   ]
  },
  {
   "cell_type": "code",
   "execution_count": 43,
   "id": "856500e0-5ad8-43d0-a7e9-3f09c7ab8d57",
   "metadata": {},
   "outputs": [
    {
     "name": "stdout",
     "output_type": "stream",
     "text": [
      "OOOOOOObananaOOOOOOO\n"
     ]
    }
   ],
   "source": [
    "x = txt.center(20, \"O\")\n",
    "\n",
    "print(x)"
   ]
  },
  {
   "cell_type": "code",
   "execution_count": 46,
   "id": "b694c560-64f0-4b76-8583-2f06084d31c3",
   "metadata": {},
   "outputs": [
    {
     "name": "stdout",
     "output_type": "stream",
     "text": [
      "1\n"
     ]
    }
   ],
   "source": [
    "txt = \"I love apples, apple are my favorite fruit\"\n",
    "\n",
    "len(txt)\n",
    "x = txt.count(\"apple\", 10, 24)\n",
    "\n",
    "print(x)"
   ]
  },
  {
   "cell_type": "code",
   "execution_count": 47,
   "id": "4f0d03fb-5703-47f7-aa25-322db763e9d2",
   "metadata": {},
   "outputs": [
    {
     "data": {
      "text/plain": [
       "'I love appl'"
      ]
     },
     "execution_count": 47,
     "metadata": {},
     "output_type": "execute_result"
    }
   ],
   "source": [
    "txt[:11]"
   ]
  }
 ],
 "metadata": {
  "kernelspec": {
   "display_name": "Python 3 (ipykernel)",
   "language": "python",
   "name": "python3"
  },
  "language_info": {
   "codemirror_mode": {
    "name": "ipython",
    "version": 3
   },
   "file_extension": ".py",
   "mimetype": "text/x-python",
   "name": "python",
   "nbconvert_exporter": "python",
   "pygments_lexer": "ipython3",
   "version": "3.11.7"
  }
 },
 "nbformat": 4,
 "nbformat_minor": 5
}
