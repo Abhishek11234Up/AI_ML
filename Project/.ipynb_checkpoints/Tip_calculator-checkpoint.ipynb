{
 "cells": [
  {
   "cell_type": "code",
   "execution_count": null,
   "id": "92e64975-5717-4439-88cc-698e9ab01384",
   "metadata": {},
   "outputs": [],
   "source": [
    "print(\"Welcome to the tip calculator!\")\n",
    "\n",
    "bill = float(input(\"What is the total bill? $\"))\n",
    "\n",
    "tip = int(input(\"What percentage tip would you like to give? 10 12 15 \"))\n",
    "\n",
    "people = int(input(\"How many people to split the bill? \"))\n",
    "\n",
    "tip_as_percent = tip / 100\n",
    "\n",
    "total_tip_amount = bill + tip_as_percent\n",
    "\n",
    "total_bill = bill + total_tip_amount\n",
    "\n",
    "bill_per_person = total_bill / people\n",
    "\n",
    "final_amount = round(bill_per_person,2)"
   ]
  },
  {
   "cell_type": "code",
   "execution_count": 4,
   "id": "3a0ecb47-fd10-4bdf-a8af-2d406d0d98fc",
   "metadata": {},
   "outputs": [
    {
     "name": "stdout",
     "output_type": "stream",
     "text": [
      "Welcome to the tip calculator!\n"
     ]
    },
    {
     "name": "stdin",
     "output_type": "stream",
     "text": [
      "What is the total bill? $ 123\n"
     ]
    }
   ],
   "source": [
    "print(\"Welcome to the tip calculator!\")\n",
    "\n",
    "bill = float(input(\"What is the total bill? $\"))"
   ]
  },
  {
   "cell_type": "code",
   "execution_count": 6,
   "id": "0266f2b7-9e5d-4783-97a0-e7d819ba2baa",
   "metadata": {},
   "outputs": [
    {
     "data": {
      "text/plain": [
       "0.1"
      ]
     },
     "execution_count": 6,
     "metadata": {},
     "output_type": "execute_result"
    }
   ],
   "source": [
    "10/100"
   ]
  },
  {
   "cell_type": "code",
   "execution_count": 7,
   "id": "98fde05b-9e9b-4cf8-afdd-4a17a8412584",
   "metadata": {},
   "outputs": [
    {
     "data": {
      "text/plain": [
       "123.657"
      ]
     },
     "execution_count": 7,
     "metadata": {},
     "output_type": "execute_result"
    }
   ],
   "source": [
    "123.657"
   ]
  },
  {
   "cell_type": "code",
   "execution_count": 8,
   "id": "9b63092f-9ca3-485d-abc2-64af3ca11755",
   "metadata": {},
   "outputs": [
    {
     "data": {
      "text/plain": [
       "123.56"
      ]
     },
     "execution_count": 8,
     "metadata": {},
     "output_type": "execute_result"
    }
   ],
   "source": [
    "123.56"
   ]
  }
 ],
 "metadata": {
  "kernelspec": {
   "display_name": "Python 3 (ipykernel)",
   "language": "python",
   "name": "python3"
  },
  "language_info": {
   "codemirror_mode": {
    "name": "ipython",
    "version": 3
   },
   "file_extension": ".py",
   "mimetype": "text/x-python",
   "name": "python",
   "nbconvert_exporter": "python",
   "pygments_lexer": "ipython3",
   "version": "3.11.7"
  }
 },
 "nbformat": 4,
 "nbformat_minor": 5
}
